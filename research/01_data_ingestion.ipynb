{
 "cells": [
  {
   "cell_type": "code",
   "execution_count": 3,
   "id": "b542e210",
   "metadata": {},
   "outputs": [],
   "source": [
    "import sys\n",
    "import os\n",
    "\n",
    "project_root = os.path.abspath(os.path.join(os.getcwd(), '..'))\n",
    "if project_root not in sys.path:\n",
    "    sys.path.append(project_root)\n",
    "\n",
    "\n"
   ]
  },
  {
   "cell_type": "code",
   "execution_count": 4,
   "id": "e888a618",
   "metadata": {},
   "outputs": [
    {
     "name": "stdout",
     "output_type": "stream",
     "text": [
      "[WinError 3] The system cannot find the path specified: 'path/to/Text-Summarizer'\n",
      "c:\\Users\\Tanveer\\Text-Summarizer\\research\n"
     ]
    }
   ],
   "source": [
    "%cd path/to/Text-Summarizer\n",
    "sys.path.append(os.path.abspath(\"./\"))\n"
   ]
  },
  {
   "cell_type": "code",
   "execution_count": 5,
   "id": "e1c5a1ea",
   "metadata": {},
   "outputs": [
    {
     "data": {
      "text/plain": [
       "'c:\\\\Users\\\\Tanveer\\\\Text-Summarizer\\\\research'"
      ]
     },
     "execution_count": 5,
     "metadata": {},
     "output_type": "execute_result"
    }
   ],
   "source": [
    "%pwd"
   ]
  },
  {
   "cell_type": "code",
   "execution_count": 6,
   "id": "f2dc7e00",
   "metadata": {},
   "outputs": [],
   "source": [
    "os.chdir(\"../\")"
   ]
  },
  {
   "cell_type": "code",
   "execution_count": 7,
   "id": "31f235e4",
   "metadata": {},
   "outputs": [
    {
     "data": {
      "text/plain": [
       "'c:\\\\Users\\\\Tanveer\\\\Text-Summarizer'"
      ]
     },
     "execution_count": 7,
     "metadata": {},
     "output_type": "execute_result"
    }
   ],
   "source": [
    "%pwd"
   ]
  },
  {
   "cell_type": "code",
   "execution_count": 69,
   "id": "6413093c",
   "metadata": {},
   "outputs": [
    {
     "name": "stdout",
     "output_type": "stream",
     "text": [
      "['c:\\\\Users\\\\Tanveer\\\\anaconda3\\\\envs\\\\texts\\\\python38.zip', 'c:\\\\Users\\\\Tanveer\\\\anaconda3\\\\envs\\\\texts\\\\DLLs', 'c:\\\\Users\\\\Tanveer\\\\anaconda3\\\\envs\\\\texts\\\\lib', 'c:\\\\Users\\\\Tanveer\\\\anaconda3\\\\envs\\\\texts', '', 'c:\\\\Users\\\\Tanveer\\\\anaconda3\\\\envs\\\\texts\\\\lib\\\\site-packages', 'c:\\\\Users\\\\Tanveer\\\\anaconda3\\\\envs\\\\texts\\\\lib\\\\site-packages\\\\win32', 'c:\\\\Users\\\\Tanveer\\\\anaconda3\\\\envs\\\\texts\\\\lib\\\\site-packages\\\\win32\\\\lib', 'c:\\\\Users\\\\Tanveer\\\\anaconda3\\\\envs\\\\texts\\\\lib\\\\site-packages\\\\Pythonwin', 'c:\\\\Users\\\\Tanveer\\\\Text-Summarizer', 'c:\\\\Users\\\\Tanveer\\\\Text-Summarizer\\\\research', 'c:\\\\Users\\\\Tanveer', 'c:\\\\Users\\\\Tanveer\\\\Text-Summarizer', 'c:\\\\Users', 'c:\\\\Users\\\\Tanveer', 'c:\\\\', 'c:\\\\Users', 'c:\\\\']\n"
     ]
    }
   ],
   "source": [
    "import sys\n",
    "print(sys.path)\n"
   ]
  },
  {
   "cell_type": "code",
   "execution_count": 70,
   "id": "558b4eaa",
   "metadata": {},
   "outputs": [],
   "source": [
    "from dataclasses import dataclass\n",
    "from pathlib import Path\n",
    "\n",
    "@dataclass(frozen=True)\n",
    "class DataIngestionConfig:\n",
    "    root_dir: Path\n",
    "    source_URL: str\n",
    "    local_data_files: Path\n",
    "    unzip_dir: Path"
   ]
  },
  {
   "cell_type": "code",
   "execution_count": 71,
   "id": "f41e7b33",
   "metadata": {},
   "outputs": [],
   "source": [
    "from textSummarizer.constants import *\n",
    "from textSummarizer.utils.common import read_yaml, create_directories\n",
    "from textSummarizer.config.configuration import ConfigurationManager\n"
   ]
  },
  {
   "cell_type": "code",
   "execution_count": 72,
   "id": "4c9d28cf",
   "metadata": {},
   "outputs": [],
   "source": [
    "\n",
    "class ConfigurationManager:\n",
    "    def __init__(\n",
    "        self,\n",
    "        config_filepath = CONFIG_FILE_PATH,\n",
    "        params_filepath = PARAMS_FILE_PATH):\n",
    "\n",
    "        self.config = read_yaml(config_filepath)\n",
    "        self.params = read_yaml(params_filepath)\n",
    "\n",
    "        create_directories([self.config.artifacts_root])\n",
    "\n",
    "    \n",
    "\n",
    "    def get_data_ingestion_config(self) -> DataIngestionConfig:\n",
    "        config = self.config.data_ingestion\n",
    "\n",
    "        create_directories([config.root_dir])\n",
    "\n",
    "        data_ingestion_config = DataIngestionConfig(\n",
    "            root_dir=config.root_dir,\n",
    "            source_URL=config.source_URL,\n",
    "            local_data_file=config.local_data_file,\n",
    "            unzip_dir=config.unzip_dir \n",
    "        )\n",
    "\n",
    "        return data_ingestion_config"
   ]
  },
  {
   "cell_type": "code",
   "execution_count": 73,
   "id": "0a4c3d82",
   "metadata": {},
   "outputs": [],
   "source": [
    "import os\n",
    "import urllib.request as request\n",
    "import zipfile\n",
    "from textSummarizer.logging import logger\n",
    "from textSummarizer.utils.common import get_size"
   ]
  },
  {
   "cell_type": "code",
   "execution_count": 74,
   "id": "5b025c61",
   "metadata": {},
   "outputs": [],
   "source": [
    "class DataIngestion:\n",
    "    def __init__(self, config: DataIngestionConfig):\n",
    "        self.config = config\n",
    "\n",
    "\n",
    "    \n",
    "    def download_file(self):\n",
    "        if not os.path.exists(self.config.local_data_file):\n",
    "            filename, headers = request.urlretrieve(\n",
    "                url = self.config.source_URL,\n",
    "                filename = self.config.local_data_file\n",
    "            )\n",
    "            logger.info(f\"{filename} download! with following info: \\n{headers}\")\n",
    "        else:\n",
    "            logger.info(f\"File already exists of size: {get_size(Path(self.config.local_data_file))}\")  \n",
    "\n",
    "        \n",
    "    \n",
    "    def extract_zip_file(self):\n",
    "        \"\"\"\n",
    "        zip_file_path: str\n",
    "        Extracts the zip file into the data directory\n",
    "        Function returns None\n",
    "        \"\"\"\n",
    "        unzip_path = self.config.unzip_dir\n",
    "        os.makedirs(unzip_path, exist_ok=True)\n",
    "        with zipfile.ZipFile(self.config.local_data_file, 'r') as zip_ref:\n",
    "            zip_ref.extractall(unzip_path)\n"
   ]
  },
  {
   "cell_type": "code",
   "execution_count": 3,
   "id": "bdba8d95",
   "metadata": {},
   "outputs": [
    {
     "name": "stdout",
     "output_type": "stream",
     "text": [
      "Downloading file...\n",
      "Download completed.\n",
      "Extracting ZIP...\n",
      "Extraction completed.\n"
     ]
    }
   ],
   "source": [
    "import os\n",
    "import urllib.request\n",
    "import zipfile\n",
    "\n",
    "# Configuration section\n",
    "root_dir = \"artifacts/data_ingestion\"\n",
    "source_URL = \"https://github.com/entbappy/Branching-tutorial/raw/refs/heads/master/summarizer-data.zip\"  \n",
    "local_data_file = \"artifacts/data.zip\"\n",
    "unzip_dir = \"artifacts/unzipped_data\"\n",
    "\n",
    "# Create necessary directories\n",
    "os.makedirs(os.path.dirname(local_data_file), exist_ok=True)\n",
    "os.makedirs(unzip_dir, exist_ok=True)\n",
    "\n",
    "# Download the ZIP file\n",
    "def download_file(url, save_path):\n",
    "    print(\"Downloading file...\")\n",
    "    urllib.request.urlretrieve(url, save_path)\n",
    "    print(\"Download completed.\")\n",
    "\n",
    "# Extract the ZIP file\n",
    "def extract_zip_file(zip_path, extract_to):\n",
    "    print(\"Extracting ZIP...\")\n",
    "    with zipfile.ZipFile(zip_path, 'r') as zip_ref:\n",
    "        zip_ref.extractall(extract_to)\n",
    "    print(\"Extraction completed.\")\n",
    "\n",
    "# Run the process\n",
    "try:\n",
    "    download_file(source_URL, local_data_file)\n",
    "    extract_zip_file(local_data_file, unzip_dir)\n",
    "except Exception as e:\n",
    "    print(\"Error:\", e)\n"
   ]
  },
  {
   "cell_type": "code",
   "execution_count": 12,
   "id": "02e65c5e",
   "metadata": {},
   "outputs": [
    {
     "name": "stdout",
     "output_type": "stream",
     "text": [
      "🔽 Downloading file...\n",
      "✅ Downloaded to: artifacts/data.zip\n",
      "🗜️ Extracting ZIP file...\n",
      "✅ Extracted to: artifacts/unzipped_data\n",
      "📂 Extracted Files:\n",
      "  - artifacts/unzipped_data\\samsum-test.csv\n",
      "  - artifacts/unzipped_data\\samsum-train.csv\n",
      "  - artifacts/unzipped_data\\samsum-validation.csv\n",
      "  - artifacts/unzipped_data\\samsum_dataset\\dataset_dict.json\n",
      "  - artifacts/unzipped_data\\samsum_dataset\\test\\data-00000-of-00001.arrow\n",
      "  - artifacts/unzipped_data\\samsum_dataset\\test\\dataset_info.json\n",
      "  - artifacts/unzipped_data\\samsum_dataset\\test\\state.json\n",
      "  - artifacts/unzipped_data\\samsum_dataset\\train\\data-00000-of-00001.arrow\n",
      "  - artifacts/unzipped_data\\samsum_dataset\\train\\dataset_info.json\n",
      "  - artifacts/unzipped_data\\samsum_dataset\\train\\state.json\n",
      "  - artifacts/unzipped_data\\samsum_dataset\\validation\\data-00000-of-00001.arrow\n",
      "  - artifacts/unzipped_data\\samsum_dataset\\validation\\dataset_info.json\n",
      "  - artifacts/unzipped_data\\samsum_dataset\\validation\\state.json\n",
      "✅ Does data.zip exist? True\n",
      "✅ Does unzipped_data/ exist? True\n"
     ]
    }
   ],
   "source": [
    "import os\n",
    "import urllib.request\n",
    "import zipfile\n",
    "\n",
    "class DataIngestionConfig:\n",
    "    def __init__(self, root_dir,source_url, local_data_file, unzip_dir):\n",
    "        self.root_dir = root_dir\n",
    "        self.source_url = source_url\n",
    "        self.local_zip_path = local_data_file\n",
    "        self.unzip_dir = unzip_dir\n",
    "\n",
    "class DataIngestion:\n",
    "    def __init__(self, config: DataIngestionConfig):\n",
    "        self.config = config\n",
    "        os.makedirs(os.path.dirname(self.config.local_zip_path), exist_ok=True)\n",
    "        os.makedirs(self.config.unzip_dir, exist_ok=True)\n",
    "        os.makedirs(self.config.root_dir, exist_ok=True)\n",
    "\n",
    "    def download_file(self):\n",
    "        print(\"🔽 Downloading file...\")\n",
    "        urllib.request.urlretrieve(self.config.source_url, self.config.local_zip_path)\n",
    "        print(f\"✅ Downloaded to: {self.config.local_zip_path}\")\n",
    "\n",
    "    def extract_zip_file(self):\n",
    "        print(\"🗜️ Extracting ZIP file...\")\n",
    "        with zipfile.ZipFile(self.config.local_zip_path, 'r') as zip_ref:\n",
    "            zip_ref.extractall(self.config.unzip_dir)\n",
    "        print(f\"✅ Extracted to: {self.config.unzip_dir}\")\n",
    "\n",
    "        # List all extracted files\n",
    "        print(\"📂 Extracted Files:\")\n",
    "        for root, dirs, files in os.walk(self.config.unzip_dir):\n",
    "            for file in files:\n",
    "                print(\"  -\", os.path.join(root, file))\n",
    "\n",
    "# Example usage\n",
    "if __name__ == \"__main__\":\n",
    "    config = DataIngestionConfig(\n",
    "        root_dir= \"artifacts/data_ingestion\",\n",
    "        source_url= \"https://github.com/entbappy/Branching-tutorial/raw/refs/heads/master/summarizer-data.zip \",\n",
    "        local_data_file= \"artifacts/data.zip\",\n",
    "        unzip_dir= \"artifacts/unzipped_data\"\n",
    "    )\n",
    "    \n",
    "    ingestion = DataIngestion(config)\n",
    "    \n",
    "    try:\n",
    "        ingestion.download_file()\n",
    "        ingestion.extract_zip_file()\n",
    "    except Exception as e:\n",
    "        print(\"❌ Error occurred:\", e)\n",
    "print(\"✅ Does data.zip exist?\", os.path.exists(config.local_zip_path))\n",
    "print(\"✅ Does unzipped_data/ exist?\", os.path.exists(config.unzip_dir))\n",
    "\n",
    "\n"
   ]
  }
 ],
 "metadata": {
  "kernelspec": {
   "display_name": "texts",
   "language": "python",
   "name": "python3"
  },
  "language_info": {
   "codemirror_mode": {
    "name": "ipython",
    "version": 3
   },
   "file_extension": ".py",
   "mimetype": "text/x-python",
   "name": "python",
   "nbconvert_exporter": "python",
   "pygments_lexer": "ipython3",
   "version": "3.8.20"
  }
 },
 "nbformat": 4,
 "nbformat_minor": 5
}
